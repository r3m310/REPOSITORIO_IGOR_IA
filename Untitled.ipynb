{
 "cells": [
  {
   "cell_type": "markdown",
   "id": "a8103fdd",
   "metadata": {},
   "source": [
    "## igor alvarenga"
   ]
  },
  {
   "cell_type": "code",
   "execution_count": 5,
   "id": "eadcb842",
   "metadata": {},
   "outputs": [
    {
     "data": {
      "text/plain": [
       "5"
      ]
     },
     "execution_count": 5,
     "metadata": {},
     "output_type": "execute_result"
    }
   ],
   "source": [
    "2+3"
   ]
  },
  {
   "cell_type": "code",
   "execution_count": 6,
   "id": "c9dbeaad",
   "metadata": {},
   "outputs": [],
   "source": [
    "qte_vend_coca=150"
   ]
  },
  {
   "cell_type": "code",
   "execution_count": 9,
   "id": "238f0692",
   "metadata": {},
   "outputs": [],
   "source": [
    "var_coca=1.50"
   ]
  },
  {
   "cell_type": "code",
   "execution_count": 8,
   "id": "1f8a3efa",
   "metadata": {},
   "outputs": [],
   "source": [
    "var_pepsi=1.50"
   ]
  },
  {
   "cell_type": "code",
   "execution_count": 10,
   "id": "1f5ae4a3",
   "metadata": {},
   "outputs": [],
   "source": [
    "qte_vend_pepsi=130"
   ]
  },
  {
   "cell_type": "code",
   "execution_count": 11,
   "id": "9d2439bb",
   "metadata": {},
   "outputs": [],
   "source": [
    "custo_loja=2500"
   ]
  },
  {
   "cell_type": "code",
   "execution_count": 33,
   "id": "f3a5663f",
   "metadata": {},
   "outputs": [],
   "source": [
    "faturamento= (qte_vend_coca*var_coca)+(qte_vend_pepsi*var_pepsi)"
   ]
  },
  {
   "cell_type": "code",
   "execution_count": 35,
   "id": "a2291dda",
   "metadata": {},
   "outputs": [],
   "source": [
    "lucro= faturamento-custo_loja"
   ]
  },
  {
   "cell_type": "code",
   "execution_count": 34,
   "id": "04166a9b",
   "metadata": {},
   "outputs": [
    {
     "name": "stdout",
     "output_type": "stream",
     "text": [
      "Faturamento: 420.0\n"
     ]
    }
   ],
   "source": [
    "print(\"Faturamento:\" , faturamento)"
   ]
  },
  {
   "cell_type": "code",
   "execution_count": null,
   "id": "afcd373c",
   "metadata": {},
   "outputs": [],
   "source": []
  }
 ],
 "metadata": {
  "kernelspec": {
   "display_name": "Python 3 (ipykernel)",
   "language": "python",
   "name": "python3"
  },
  "language_info": {
   "codemirror_mode": {
    "name": "ipython",
    "version": 3
   },
   "file_extension": ".py",
   "mimetype": "text/x-python",
   "name": "python",
   "nbconvert_exporter": "python",
   "pygments_lexer": "ipython3",
   "version": "3.9.7"
  }
 },
 "nbformat": 4,
 "nbformat_minor": 5
}
