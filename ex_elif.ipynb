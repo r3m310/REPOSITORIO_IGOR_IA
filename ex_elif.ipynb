{
 "cells": [
  {
   "cell_type": "code",
   "execution_count": 8,
   "id": "9145561d",
   "metadata": {},
   "outputs": [],
   "source": [
    "email ='ram@gmail.com'\n",
    "nome ='Iram Maio Silva'"
   ]
  },
  {
   "cell_type": "code",
   "execution_count": 14,
   "id": "573c5569",
   "metadata": {},
   "outputs": [
    {
     "name": "stdout",
     "output_type": "stream",
     "text": [
      "tamanho do e-mail 13 caracteres\n",
      "Primeiro caractere ?\n",
      "Último caractere ?\n",
      "Servidor do e-mail ?\n"
     ]
    }
   ],
   "source": [
    "print(\"tamanho do e-mail \" + str(len(email)) + ' caracteres')\n",
    "print('Primeiro caractere' + ' ?')\n",
    "print('Último caractere' + ' ?')\n",
    "print ('Servidor do e-mail' + ' ?')"
   ]
  },
  {
   "cell_type": "code",
   "execution_count": null,
   "id": "533737f3",
   "metadata": {},
   "outputs": [],
   "source": []
  },
  {
   "cell_type": "code",
   "execution_count": null,
   "id": "12e96043",
   "metadata": {},
   "outputs": [],
   "source": []
  },
  {
   "cell_type": "code",
   "execution_count": null,
   "id": "6f8b45e1",
   "metadata": {},
   "outputs": [],
   "source": []
  },
  {
   "cell_type": "code",
   "execution_count": null,
   "id": "e3102d30",
   "metadata": {},
   "outputs": [],
   "source": []
  }
 ],
 "metadata": {
  "kernelspec": {
   "display_name": "Python 3 (ipykernel)",
   "language": "python",
   "name": "python3"
  },
  "language_info": {
   "codemirror_mode": {
    "name": "ipython",
    "version": 3
   },
   "file_extension": ".py",
   "mimetype": "text/x-python",
   "name": "python",
   "nbconvert_exporter": "python",
   "pygments_lexer": "ipython3",
   "version": "3.9.7"
  }
 },
 "nbformat": 4,
 "nbformat_minor": 5
}
